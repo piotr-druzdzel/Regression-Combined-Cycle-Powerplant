{
 "cells": [
  {
   "cell_type": "markdown",
   "metadata": {},
   "source": [
    "# Linear Regression Project\n",
    "\n",
    "## Combined Cycle Power Plant <br>\n",
    "\n",
    "Author: Piotr Druzdzel <br>\n",
    "E-mail: piotr.druzdzel@gmail.com <br> <br>\n",
    "\n",
    "Data source: UCI Machine Learning Repository <br>\n",
    "https://archive.ics.uci.edu/ml/datasets/Combined+Cycle+Power+Plant"
   ]
  },
  {
   "cell_type": "markdown",
   "metadata": {},
   "source": [
    "#### Data Set Information: \n",
    "The dataset contains 9568 data points collected from a Combined Cycle Power Plant over 6 years (2006-2011), when the power plant was set to work with full load. <br>"
   ]
  },
  {
   "cell_type": "markdown",
   "metadata": {},
   "source": [
    "#### Attribute Information:\n",
    "\n",
    "Features consist of hourly average ambient variables <br>\n",
    "- Temperature (T) in the range 1.81°C and 37.11°C <br>\n",
    "- Ambient Pressure (AP) in the range 992.89-1033.30 milibar <br>\n",
    "- Relative Humidity (RH) in the range 25.56% to 100.16% <br>\n",
    "- Exhaust Vacuum (V) in teh range 25.36-81.56 cm Hg <br>\n",
    "- Net hourly electrical energy output (EP) 420.26-495.76 MW <br>\n",
    "\n",
    "The averages are taken from various sensors located around the plant that record the ambient variables every second. <br>\n",
    "The variables are given without normalization."
   ]
  },
  {
   "cell_type": "code",
   "execution_count": null,
   "metadata": {},
   "outputs": [],
   "source": []
  }
 ],
 "metadata": {
  "kernelspec": {
   "display_name": "Python 3",
   "language": "python",
   "name": "python3"
  },
  "language_info": {
   "codemirror_mode": {
    "name": "ipython",
    "version": 3
   },
   "file_extension": ".py",
   "mimetype": "text/x-python",
   "name": "python",
   "nbconvert_exporter": "python",
   "pygments_lexer": "ipython3",
   "version": "3.7.6"
  }
 },
 "nbformat": 4,
 "nbformat_minor": 4
}
